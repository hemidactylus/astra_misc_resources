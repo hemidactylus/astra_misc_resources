{
 "cells": [
  {
   "cell_type": "code",
   "execution_count": null,
   "id": "398bed99-77d9-4e90-9b73-f51cf1d27dde",
   "metadata": {},
   "outputs": [],
   "source": [
    "! pip install --quiet git+https://github.com/datastax/astrapy@pymongo-convergence-m1#egg=astrapy"
   ]
  },
  {
   "cell_type": "code",
   "execution_count": null,
   "id": "e77f7099-38ea-409f-8f07-c0ff2bfd7b31",
   "metadata": {},
   "outputs": [],
   "source": [
    "import getpass\n",
    "\n",
    "ASTRA_DB_APPLICATION_TOKEN = getpass.getpass(\"Token\")\n",
    "ASTRA_DB_API_ENDPOINT = input(\"Endpoint\")"
   ]
  },
  {
   "cell_type": "code",
   "execution_count": null,
   "id": "fb5c0e12-3440-4cc2-8dcc-7613b529b8f6",
   "metadata": {},
   "outputs": [],
   "source": [
    "from astrapy import Database, Collection"
   ]
  },
  {
   "cell_type": "code",
   "execution_count": null,
   "id": "7ae5cf14-5de9-4a78-864d-d14dfdc9555c",
   "metadata": {},
   "outputs": [],
   "source": [
    "db = Database(ASTRA_DB_API_ENDPOINT, ASTRA_DB_APPLICATION_TOKEN)"
   ]
  },
  {
   "cell_type": "code",
   "execution_count": null,
   "id": "94860a99-d1e7-4e9c-adda-d1ffbebb2fe5",
   "metadata": {},
   "outputs": [],
   "source": [
    "db.list_collection_names()"
   ]
  },
  {
   "cell_type": "code",
   "execution_count": null,
   "id": "7a480d04-3441-4d1e-9ecc-d45f28634b3b",
   "metadata": {},
   "outputs": [],
   "source": [
    "# run if you have another namespace, adjust the name here:\n",
    "db.list_collection_names(namespace=\"another_keyspace\")"
   ]
  },
  {
   "cell_type": "code",
   "execution_count": null,
   "id": "581a45c5-5e44-4d3c-8766-e2d10905d2e7",
   "metadata": {},
   "outputs": [],
   "source": [
    "db.set_caller(\"longchoin\", \"0.1.2\")"
   ]
  },
  {
   "cell_type": "code",
   "execution_count": null,
   "id": "620f5e84-d08a-4c57-b1be-236fc147a6ef",
   "metadata": {},
   "outputs": [],
   "source": [
    "col = db.create_collection(\"my_coll\", dimension=10)\n",
    "col"
   ]
  },
  {
   "cell_type": "code",
   "execution_count": null,
   "id": "5e4e9f74-0c74-47bf-9092-c59b39969846",
   "metadata": {},
   "outputs": [],
   "source": [
    "kol = db.get_collection(\"my_coll\")\n",
    "col == kol"
   ]
  },
  {
   "cell_type": "code",
   "execution_count": null,
   "id": "7ced459d-5d2b-4775-b609-eb5a49418230",
   "metadata": {},
   "outputs": [],
   "source": [
    "db.list_collection_names()"
   ]
  },
  {
   "cell_type": "code",
   "execution_count": null,
   "id": "c369ee2c-17c6-4809-af5f-f33f10b59f8a",
   "metadata": {},
   "outputs": [],
   "source": [
    "col.count_documents(filter={}), col.count_documents(filter={\"group\": \"A\"})"
   ]
  },
  {
   "cell_type": "code",
   "execution_count": null,
   "id": "adf91251-79be-4e3c-b6f7-3dfe6b250648",
   "metadata": {},
   "outputs": [],
   "source": [
    "col.insert_one({\"doc\": \"1\", \"group\": \"A\"})"
   ]
  },
  {
   "cell_type": "code",
   "execution_count": null,
   "id": "2f160f6f-7cd9-42ef-af79-2765b929f5d7",
   "metadata": {},
   "outputs": [],
   "source": [
    "col.insert_one({\"doc\": \"2\", \"group\": \"B\"})\n",
    "col.insert_one({\"doc\": \"3\", \"group\": \"B\"})\n",
    "col.insert_one({\"doc\": \"4\", \"group\": \"B\"})\n",
    "# only the output of the last insert_one will be printed:"
   ]
  },
  {
   "cell_type": "code",
   "execution_count": null,
   "id": "48150d0a-4884-42b8-9161-f23b60bbb718",
   "metadata": {},
   "outputs": [],
   "source": [
    "col.insert_one({\"doc\": \"5\", \"group\": \"A\"})"
   ]
  },
  {
   "cell_type": "code",
   "execution_count": null,
   "id": "0b979c49-b076-4462-952e-bfeef72c26ea",
   "metadata": {},
   "outputs": [],
   "source": [
    "col.count_documents(filter={}), col.count_documents(filter={\"group\": \"A\"})"
   ]
  },
  {
   "cell_type": "code",
   "execution_count": null,
   "id": "1b89a160-0776-4252-86e4-7d6a56d57473",
   "metadata": {},
   "outputs": [],
   "source": [
    "col.delete_one(filter={\"group\": \"A\"})"
   ]
  },
  {
   "cell_type": "code",
   "execution_count": null,
   "id": "c6bee99f-4106-43d8-b4c2-ec50915e6339",
   "metadata": {},
   "outputs": [],
   "source": [
    "col.count_documents(filter={}), col.count_documents(filter={\"group\": \"A\"})"
   ]
  },
  {
   "cell_type": "code",
   "execution_count": null,
   "id": "8a24b8ef-d407-432f-886c-43473defaa42",
   "metadata": {},
   "outputs": [],
   "source": [
    "col.delete_many(filter={\"group\": \"B\"})"
   ]
  },
  {
   "cell_type": "code",
   "execution_count": null,
   "id": "e82b9485-6878-4559-b4be-a7a3ac7c7a3c",
   "metadata": {},
   "outputs": [],
   "source": [
    "col.count_documents(filter={}), col.count_documents(filter={\"group\": \"A\"})"
   ]
  },
  {
   "cell_type": "code",
   "execution_count": null,
   "id": "93fd4112-3da3-4efe-932f-89ec9bb06372",
   "metadata": {},
   "outputs": [],
   "source": [
    "db.drop_collection(\"my_coll\")"
   ]
  }
 ],
 "metadata": {
  "kernelspec": {
   "display_name": "Python 3 (ipykernel)",
   "language": "python",
   "name": "python3"
  },
  "language_info": {
   "codemirror_mode": {
    "name": "ipython",
    "version": 3
   },
   "file_extension": ".py",
   "mimetype": "text/x-python",
   "name": "python",
   "nbconvert_exporter": "python",
   "pygments_lexer": "ipython3",
   "version": "3.9.18"
  }
 },
 "nbformat": 4,
 "nbformat_minor": 5
}
