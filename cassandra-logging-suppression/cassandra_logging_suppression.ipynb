{
  "nbformat": 4,
  "nbformat_minor": 0,
  "metadata": {
    "colab": {
      "provenance": []
    },
    "kernelspec": {
      "name": "python3",
      "display_name": "Python 3"
    },
    "language_info": {
      "name": "python"
    }
  },
  "cells": [
    {
      "cell_type": "markdown",
      "source": [
        "# Removing scary clutter from Cassandra drivers in a Colab\n",
        "\n",
        "1. Run the whole notebook like it is now (`Runtime -> Restart and run all`)\n",
        "\n",
        "2. Uncomment the third cell and repeat. Compare the output of the last cell.\n",
        "\n",
        "_Note_: in the following we use `cassio.init` as a credentials-shorthand, but the logic applies equally well to the `cluster = Cluster(...)` + `session = cluster.connect()` flow (which is what happens in the belly of `cassio.init` indeed)."
      ],
      "metadata": {
        "id": "mOoG01QZbuHG"
      }
    },
    {
      "cell_type": "code",
      "execution_count": null,
      "metadata": {
        "id": "_efazcscXn9v"
      },
      "outputs": [],
      "source": [
        "!pip install --quiet cassio"
      ]
    },
    {
      "cell_type": "code",
      "source": [
        "import cassio"
      ],
      "metadata": {
        "id": "IUUM47hkXqbT"
      },
      "execution_count": null,
      "outputs": []
    },
    {
      "cell_type": "code",
      "source": [
        "# import logging\n",
        "# logger = logging.getLogger()\n",
        "# logger.setLevel(logging.ERROR)"
      ],
      "metadata": {
        "id": "USmrK3rRYvIh"
      },
      "execution_count": null,
      "outputs": []
    },
    {
      "cell_type": "markdown",
      "source": [
        "Uncomment the above and `Runtime -> Restart and run all`: the only line printed below will be the \"USE_BETA_FLAG\" error.\n",
        "\n",
        "The above, in a demo notebook, can be motivated with something like _Let us suppress noncritical logging to better focus on what the demo does_ or similar.\n",
        "\n",
        "I don't feel, however, like suppressing an _error_ (assuming there's a non-hacky way). The remaining print has to be managed at cassandra-driver level in my opinion."
      ],
      "metadata": {
        "id": "AFMkdTAcbKiJ"
      }
    },
    {
      "cell_type": "code",
      "source": [
        "ASTRA_DB_APPLICATION_TOKEN=\"AstraCS:...\"\n",
        "ASTRA_DB_ID=\"...\""
      ],
      "metadata": {
        "id": "Ql_OWpesX40G"
      },
      "execution_count": null,
      "outputs": []
    },
    {
      "cell_type": "code",
      "source": [
        "cassio.init(database_id=ASTRA_DB_ID, token=ASTRA_DB_APPLICATION_TOKEN)"
      ],
      "metadata": {
        "colab": {
          "base_uri": "https://localhost:8080/"
        },
        "id": "zl4oAd5vX2iU",
        "outputId": "c490bf02-24d7-47ce-b012-3cc70ad3cae4"
      },
      "execution_count": null,
      "outputs": [
        {
          "output_type": "stream",
          "name": "stderr",
          "text": [
            "WARNING:cassandra.cluster:Downgrading core protocol version from 66 to 65 for 4f835778-ec78-42b0-9ae3-29e3cf45b596-us-east1.db.astra.datastax.com:29042:26e7e0dd-00b6-4e06-9cc7-88e2235eda8b. To avoid this, it is best practice to explicitly set Cluster(protocol_version) to the version supported by your cluster. http://datastax.github.io/python-driver/api/cassandra/cluster.html#cassandra.cluster.Cluster.protocol_version\n",
            "WARNING:cassandra.cluster:Downgrading core protocol version from 65 to 5 for 4f835778-ec78-42b0-9ae3-29e3cf45b596-us-east1.db.astra.datastax.com:29042:26e7e0dd-00b6-4e06-9cc7-88e2235eda8b. To avoid this, it is best practice to explicitly set Cluster(protocol_version) to the version supported by your cluster. http://datastax.github.io/python-driver/api/cassandra/cluster.html#cassandra.cluster.Cluster.protocol_version\n",
            "ERROR:cassandra.connection:Closing connection <AsyncoreConnection(135263429547088) 4f835778-ec78-42b0-9ae3-29e3cf45b596-us-east1.db.astra.datastax.com:29042:26e7e0dd-00b6-4e06-9cc7-88e2235eda8b> due to protocol error: Error from server: code=000a [Protocol error] message=\"Beta version of the protocol used (5/v5-beta), but USE_BETA flag is unset\"\n",
            "WARNING:cassandra.cluster:Downgrading core protocol version from 5 to 4 for 4f835778-ec78-42b0-9ae3-29e3cf45b596-us-east1.db.astra.datastax.com:29042:26e7e0dd-00b6-4e06-9cc7-88e2235eda8b. To avoid this, it is best practice to explicitly set Cluster(protocol_version) to the version supported by your cluster. http://datastax.github.io/python-driver/api/cassandra/cluster.html#cassandra.cluster.Cluster.protocol_version\n"
          ]
        }
      ]
    }
  ]
}