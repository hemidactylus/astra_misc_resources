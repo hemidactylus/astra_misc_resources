{
 "cells": [
  {
   "cell_type": "markdown",
   "id": "00c78b4a-3b32-480e-9820-5ddcf8428342",
   "metadata": {},
   "source": [
    "# IN clauses and CassIO\n",
    "\n",
    "_Stefano, 2023-12-06_\n",
    "\n",
    "Let's look at what can be done to support IN-type filtering for the metadata in CassIO"
   ]
  },
  {
   "cell_type": "markdown",
   "id": "098f67eb-8bf6-4e5d-8a4d-60489c2de71b",
   "metadata": {},
   "source": [
    "## Setup"
   ]
  },
  {
   "cell_type": "code",
   "execution_count": 4,
   "id": "25ccbb00-27fb-48ce-853e-3a3288fa524b",
   "metadata": {},
   "outputs": [],
   "source": [
    "! pip install -q \"cassio>=0.1.3\""
   ]
  },
  {
   "cell_type": "code",
   "execution_count": 5,
   "id": "e29445c2-df8e-4109-9e49-0a5e5aa65982",
   "metadata": {},
   "outputs": [],
   "source": [
    "import os\n",
    "\n",
    "import cassio"
   ]
  },
  {
   "cell_type": "code",
   "execution_count": 6,
   "id": "16f20801-c59e-477a-9339-24133a3234fa",
   "metadata": {},
   "outputs": [
    {
     "name": "stdin",
     "output_type": "stream",
     "text": [
      "(Optional) ASTRA_DB_KEYSPACE =  \n"
     ]
    }
   ],
   "source": [
    "if \"ASTRA_DB_DATABASE_ID\" not in os.environ:\n",
    "    os.environ[\"ASTRA_DB_DATABASE_ID\"] = input(\"ASTRA_DB_DATABASE_ID = \")\n",
    "\n",
    "if \"ASTRA_DB_APPLICATION_TOKEN\" not in os.environ:\n",
    "    os.environ[\"ASTRA_DB_APPLICATION_TOKEN\"] = getpass(\"ASTRA_DB_APPLICATION_TOKEN = \")\n",
    "\n",
    "if \"ASTRA_DB_KEYSPACE\" not in os.environ:\n",
    "    ks = input(\"(Optional) ASTRA_DB_KEYSPACE = \")\n",
    "    if ks:\n",
    "        os.environ[\"ASTRA_DB_KEYSPACE\"] = ks"
   ]
  },
  {
   "cell_type": "code",
   "execution_count": 7,
   "id": "9c36c1fd-1ec5-4b57-95db-1ce142ae88b5",
   "metadata": {},
   "outputs": [],
   "source": [
    "cassio.init(\n",
    "    database_id=os.environ[\"ASTRA_DB_DATABASE_ID\"],\n",
    "    token=os.environ[\"ASTRA_DB_APPLICATION_TOKEN\"],\n",
    "    keyspace=os.environ.get(\"ASTRA_DB_KEYSPACE\"),\n",
    ")"
   ]
  },
  {
   "cell_type": "markdown",
   "id": "18bddaaf-54b5-4fcc-a4c3-6a6f051a16b5",
   "metadata": {},
   "source": [
    "## Create a standard CassIO table"
   ]
  },
  {
   "cell_type": "code",
   "execution_count": 10,
   "id": "97f9de9c-dbb9-41f5-b5cb-3312584776e1",
   "metadata": {},
   "outputs": [],
   "source": [
    "v_table = cassio.table.MetadataVectorCassandraTable(table=\"in_clause_test\", vector_dimension=3)"
   ]
  },
  {
   "cell_type": "code",
   "execution_count": 34,
   "id": "2a9dee70-9727-4de0-aeb2-29f6f942eeb3",
   "metadata": {},
   "outputs": [],
   "source": [
    "v_table.put(row_id=\"01\", metadata={\"chunk_label\": \"1\"}, body_blob=\"body 1\", vector=[1, 0, 0])\n",
    "v_table.put(row_id=\"01b\", metadata={\"chunk_label\": \"1\"}, body_blob=\"body 1\", vector=[1, 0.4, 0])\n",
    "v_table.put(row_id=\"01c\", metadata={\"chunk_label\": \"1\"}, body_blob=\"body 1\", vector=[1, 0, 0])\n",
    "v_table.put(row_id=\"02\", metadata={\"chunk_label\": \"2\"}, body_blob=\"body 2\", vector=[0, 1, 0.4])\n",
    "v_table.put(row_id=\"02b\", metadata={\"chunk_label\": \"2\"}, body_blob=\"body 2\", vector=[0.8, 0.2, 0.3])\n",
    "v_table.put(row_id=\"03\", metadata={\"chunk_label\": \"3\"}, body_blob=\"body 3\", vector=[1, 1, 1])"
   ]
  },
  {
   "cell_type": "markdown",
   "id": "0529b86d-45ce-4068-9ced-40583f47eb52",
   "metadata": {},
   "source": [
    "## CQL"
   ]
  },
  {
   "cell_type": "markdown",
   "id": "f85d4aaa-5119-4fa6-a6e7-433e6036306a",
   "metadata": {},
   "source": [
    "### Metadata-filtering reads with CQL (baseline)"
   ]
  },
  {
   "cell_type": "code",
   "execution_count": 35,
   "id": "20f7e57d-3073-40f1-a4fd-70b643dc31ce",
   "metadata": {},
   "outputs": [],
   "source": [
    "c_session = cassio.config.resolve_session()\n",
    "c_keyspace = cassio.config.resolve_keyspace()"
   ]
  },
  {
   "cell_type": "code",
   "execution_count": 36,
   "id": "829ed38f-a721-4667-829d-9bff60b7ad6f",
   "metadata": {},
   "outputs": [
    {
     "name": "stdout",
     "output_type": "stream",
     "text": [
      "[Row(row_id='01b', attributes_blob=None, body_blob='body 1', metadata_s=OrderedMapSerializedKey([('chunk_label', '1')]), vector=[1.0, 0.4000000059604645, 0.0]), Row(row_id='01c', attributes_blob=None, body_blob='body 1', metadata_s=OrderedMapSerializedKey([('chunk_label', '1')]), vector=[1.0, 0.0, 0.0]), Row(row_id='01', attributes_blob=None, body_blob='body 1', metadata_s=OrderedMapSerializedKey([('chunk_label', '1')]), vector=[1.0, 0.0, 0.0])]\n"
     ]
    }
   ],
   "source": [
    "rows = list(c_session.execute(f\"select * from {c_keyspace}.in_clause_test where metadata_s['chunk_label'] = '1' limit 3\"))\n",
    "\n",
    "print(rows)"
   ]
  },
  {
   "cell_type": "markdown",
   "id": "7325026e-26a8-41e8-bb5d-86a036fcad47",
   "metadata": {},
   "source": [
    "### Metadata-filtering IN clause usage"
   ]
  },
  {
   "cell_type": "markdown",
   "id": "0366cea4-3525-4b25-8fb8-2cc8294663b9",
   "metadata": {},
   "source": [
    "We know this errors"
   ]
  },
  {
   "cell_type": "code",
   "execution_count": 37,
   "id": "d2decfb5-1b51-4cd3-8f93-af2b8b1f4f49",
   "metadata": {},
   "outputs": [
    {
     "name": "stdout",
     "output_type": "stream",
     "text": [
      "<Error from server: code=2000 [Syntax error in CQL query] message=\"line 1:78 no viable alternative at input 'IN' (....in_clause_test where metadata_s['chunk_label'] [IN]...)\">\n"
     ]
    }
   ],
   "source": [
    "try:\n",
    "    rows = list(c_session.execute(f\"select * from {c_keyspace}.in_clause_test where metadata_s['chunk_label'] IN ('1', '2') limit 3\"))\n",
    "    print(rows)\n",
    "except Exception as e:\n",
    "    print(str(e))"
   ]
  },
  {
   "cell_type": "markdown",
   "id": "fbfd41c9-6670-4630-b2fc-d2931eda5d7b",
   "metadata": {},
   "source": [
    "### Workaround: use OR\n",
    "\n",
    "The above can be reformulated by exploiting the capability of SAI indexing to handle arbitrary AND/OR conditions:"
   ]
  },
  {
   "cell_type": "code",
   "execution_count": 38,
   "id": "6cd8f59f-10dc-4e67-a820-52e46aed87de",
   "metadata": {},
   "outputs": [
    {
     "name": "stdout",
     "output_type": "stream",
     "text": [
      "[Row(row_id='01b', attributes_blob=None, body_blob='body 1', metadata_s=OrderedMapSerializedKey([('chunk_label', '1')]), vector=[1.0, 0.4000000059604645, 0.0]), Row(row_id='01c', attributes_blob=None, body_blob='body 1', metadata_s=OrderedMapSerializedKey([('chunk_label', '1')]), vector=[1.0, 0.0, 0.0]), Row(row_id='02', attributes_blob=None, body_blob='body 2', metadata_s=OrderedMapSerializedKey([('chunk_label', '2')]), vector=[0.0, 1.0, 0.4000000059604645])]\n"
     ]
    }
   ],
   "source": [
    "rows = list(c_session.execute(\n",
    "    f\"select * from {c_keyspace}.in_clause_test where metadata_s['chunk_label'] = '1' or metadata_s['chunk_label'] = '2' limit 3\"\n",
    "))\n",
    "\n",
    "print(rows)"
   ]
  },
  {
   "cell_type": "markdown",
   "id": "b6bb0dbe-8cf1-492f-80ec-eb310b6c5a8c",
   "metadata": {},
   "source": [
    "### Possibly better\n",
    "\n",
    "A condition such as the above puts some load on a single coordinator, which generally is to be avoided when possible - preferring to spread the load across coordinators (I would say this is still true even when using SAIs to run the queries).\n",
    "\n",
    "Given the conditions in this case are mutually exclusive, there's not even the problem of double counting, so I guess a solution like the following is preferrable."
   ]
  },
  {
   "cell_type": "code",
   "execution_count": 39,
   "id": "69991c67-d9c8-435a-9c5f-3ed42de7aa03",
   "metadata": {},
   "outputs": [
    {
     "name": "stdout",
     "output_type": "stream",
     "text": [
      "[Row(row_id='01b', attributes_blob=None, body_blob='body 1', metadata_s=OrderedMapSerializedKey([('chunk_label', '1')]), vector=[1.0, 0.4000000059604645, 0.0]), Row(row_id='01c', attributes_blob=None, body_blob='body 1', metadata_s=OrderedMapSerializedKey([('chunk_label', '1')]), vector=[1.0, 0.0, 0.0]), Row(row_id='01', attributes_blob=None, body_blob='body 1', metadata_s=OrderedMapSerializedKey([('chunk_label', '1')]), vector=[1.0, 0.0, 0.0]), Row(row_id='02', attributes_blob=None, body_blob='body 2', metadata_s=OrderedMapSerializedKey([('chunk_label', '2')]), vector=[0.0, 1.0, 0.4000000059604645]), Row(row_id='02b', attributes_blob=None, body_blob='body 2', metadata_s=OrderedMapSerializedKey([('chunk_label', '2')]), vector=[0.800000011920929, 0.20000000298023224, 0.30000001192092896])]\n"
     ]
    }
   ],
   "source": [
    "from concurrent.futures import ThreadPoolExecutor\n",
    "\n",
    "def label_to_results(label, limit=3):\n",
    "    return list(c_session.execute(f\"select * from {c_keyspace}.in_clause_test where metadata_s['chunk_label'] = '{label}' limit {limit}\"))\n",
    "\n",
    "# Not done here: prepared statement, partialing \"limit\" away ...\n",
    "\n",
    "with ThreadPoolExecutor(max_workers=10) as tpe:\n",
    "    result_list = list(\n",
    "        tpe.map(\n",
    "            label_to_results,\n",
    "            ['1', '2'],\n",
    "        )\n",
    "    )\n",
    "\n",
    "# flatten\n",
    "results = [row for rows in result_list for row in rows]\n",
    "\n",
    "print(results)"
   ]
  },
  {
   "cell_type": "markdown",
   "id": "f78869ab-d576-4f1a-9701-90185ced23a3",
   "metadata": {},
   "source": [
    "Notes:\n",
    "\n",
    "1. You will have to cut the final list to keep only the `limit` first items. In other words, be aware that there's a slight waste in retrieving (you must use the same limit in each subquery as the final one).\n",
    "2. The arbitrariness of the result (due to the cut) is not different than the one you would get with a genuine `IN` clause if it worked.\n",
    "3. On the other hand, consider that if the items in the \"IN clause\" start to be more than a handful, even more important it is to avoid overloading a single query coordinator, more than making up for the previous point."
   ]
  },
  {
   "cell_type": "markdown",
   "id": "c320073e-5bee-4604-a206-52bec6a758c5",
   "metadata": {},
   "source": [
    "## Within CassIO"
   ]
  },
  {
   "cell_type": "markdown",
   "id": "118f6698-638b-4f3a-8e50-fbbdb7f0fe99",
   "metadata": {},
   "source": [
    "Such \"custom\" queries as the ones with an \"OR\" are not _yet_ supported in CassIO (there are plans to extend the syntax for the metadata filtering control).\n",
    "\n",
    "Likewise, (though perhaps made irrelevant by the solutions presented in this notebook) there are plans to allow for a _user-provided_ table table schema in CassIO. But not something coming in 1-2 weeks, to be clear.\n",
    "\n",
    "In other words: if you want to avoid descending to the CQL level (to be avoided when possible), concurrency is your friend:"
   ]
  },
  {
   "cell_type": "code",
   "execution_count": 40,
   "id": "bc75b8fe-8d20-4f7c-b71a-9250d4cc9d74",
   "metadata": {},
   "outputs": [
    {
     "name": "stdout",
     "output_type": "stream",
     "text": [
      "[{'metadata': {'chunk_label': '1'}, 'row_id': '01b', 'body_blob': 'body 1', 'vector': [1.0, 0.4000000059604645, 0.0], 'distance': 0.90971765268422}, {'metadata': {'chunk_label': '1'}, 'row_id': '01c', 'body_blob': 'body 1', 'vector': [1.0, 0.0, 0.0], 'distance': 0.8164965809277261}, {'metadata': {'chunk_label': '1'}, 'row_id': '01', 'body_blob': 'body 1', 'vector': [1.0, 0.0, 0.0], 'distance': 0.8164965809277261}, {'metadata': {'chunk_label': '2'}, 'row_id': '02b', 'body_blob': 'body 2', 'vector': [0.800000011920929, 0.20000000298023224, 0.30000001192092896], 'distance': 0.9770084215486352}, {'metadata': {'chunk_label': '2'}, 'row_id': '02', 'body_blob': 'body 2', 'vector': [0.0, 1.0, 0.4000000059604645], 'distance': 0.53066863167384}]\n"
     ]
    }
   ],
   "source": [
    "from concurrent.futures import ThreadPoolExecutor\n",
    "from functools import partial\n",
    "\n",
    "def cassio_labeled_ann(label, query_vector, limit):\n",
    "    return v_table.metric_ann_search(\n",
    "        query_vector,\n",
    "        n=limit,\n",
    "        metric=\"cos\",\n",
    "        metadata={\"chunk_label\": label},\n",
    "    )\n",
    "\n",
    "with ThreadPoolExecutor(max_workers=10) as tpe:\n",
    "    searcher = partial(cassio_labeled_ann, query_vector=[2, 1, 1], limit=3)\n",
    "    result_list = list(\n",
    "        tpe.map(\n",
    "            searcher,\n",
    "            ['1', '2'],\n",
    "        )\n",
    "    )\n",
    "\n",
    "# flatten\n",
    "results = [row for rows in result_list for row in rows]\n",
    "\n",
    "print(results)"
   ]
  },
  {
   "cell_type": "markdown",
   "id": "ff9a8822-9874-48d6-b0b5-0fe9af11e08f",
   "metadata": {},
   "source": [
    "Remark: you will have to pass the same `limit` as the full query, and then cut the full results to keep exactly `limit` items. But of course now you don't have them sorted!\n",
    "\n",
    "So this is a \"final\" recipe:"
   ]
  },
  {
   "cell_type": "code",
   "execution_count": 43,
   "id": "3cc9f48d-7ab2-465f-81dc-8e1d4d7d59e3",
   "metadata": {},
   "outputs": [
    {
     "name": "stdout",
     "output_type": "stream",
     "text": [
      "[{'metadata': {'chunk_label': '2'}, 'row_id': '02b', 'body_blob': 'body 2', 'vector': [0.800000011920929, 0.20000000298023224, 0.30000001192092896], 'distance': 0.9770084215486352}, {'metadata': {'chunk_label': '1'}, 'row_id': '01b', 'body_blob': 'body 1', 'vector': [1.0, 0.4000000059604645, 0.0], 'distance': 0.90971765268422}, {'metadata': {'chunk_label': '1'}, 'row_id': '01c', 'body_blob': 'body 1', 'vector': [1.0, 0.0, 0.0], 'distance': 0.8164965809277261}]\n"
     ]
    }
   ],
   "source": [
    "# sort and cut\n",
    "final_result = sorted(results, key=lambda res: res[\"distance\"], reverse=True)[:3]\n",
    "\n",
    "print(final_result)"
   ]
  },
  {
   "cell_type": "markdown",
   "id": "d2c9c9db-16e3-437a-aa8c-2a10e24e8a22",
   "metadata": {},
   "source": [
    "Note: the above shows the standard usage of running queries in a vector store, i.e. ANN searches.\n",
    "\n",
    "Nothing prevents you from doing the same with a just-metadata query (expecting arbitrariness in the results if cuts have to be done):"
   ]
  },
  {
   "cell_type": "code",
   "execution_count": 44,
   "id": "6f171044-3007-40a6-8e3d-183a3e9249ad",
   "metadata": {},
   "outputs": [
    {
     "name": "stdout",
     "output_type": "stream",
     "text": [
      "[{'metadata': {'chunk_label': '1'}, 'row_id': '01b', 'body_blob': 'body 1', 'vector': [1.0, 0.4000000059604645, 0.0]}, {'metadata': {'chunk_label': '1'}, 'row_id': '01c', 'body_blob': 'body 1', 'vector': [1.0, 0.0, 0.0]}, {'metadata': {'chunk_label': '1'}, 'row_id': '01', 'body_blob': 'body 1', 'vector': [1.0, 0.0, 0.0]}, {'metadata': {'chunk_label': '2'}, 'row_id': '02', 'body_blob': 'body 2', 'vector': [0.0, 1.0, 0.4000000059604645]}, {'metadata': {'chunk_label': '2'}, 'row_id': '02b', 'body_blob': 'body 2', 'vector': [0.800000011920929, 0.20000000298023224, 0.30000001192092896]}]\n"
     ]
    }
   ],
   "source": [
    "from concurrent.futures import ThreadPoolExecutor\n",
    "from functools import partial\n",
    "\n",
    "def cassio_labeled_md_search(label, limit):\n",
    "    return v_table.find_entries(\n",
    "        n=limit,\n",
    "        metadata={\"chunk_label\": label},\n",
    "    )\n",
    "\n",
    "with ThreadPoolExecutor(max_workers=10) as tpe:\n",
    "    searcher = partial(cassio_labeled_md_search, limit=3)\n",
    "    result_list = list(\n",
    "        tpe.map(\n",
    "            searcher,\n",
    "            ['1', '2'],\n",
    "        )\n",
    "    )\n",
    "\n",
    "# flatten\n",
    "results = [row for rows in result_list for row in rows]\n",
    "\n",
    "print(results)"
   ]
  }
 ],
 "metadata": {
  "kernelspec": {
   "display_name": "Python 3 (ipykernel)",
   "language": "python",
   "name": "python3"
  },
  "language_info": {
   "codemirror_mode": {
    "name": "ipython",
    "version": 3
   },
   "file_extension": ".py",
   "mimetype": "text/x-python",
   "name": "python",
   "nbconvert_exporter": "python",
   "pygments_lexer": "ipython3",
   "version": "3.9.17"
  }
 },
 "nbformat": 4,
 "nbformat_minor": 5
}
