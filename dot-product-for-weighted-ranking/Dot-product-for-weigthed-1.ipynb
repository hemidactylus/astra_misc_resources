{
 "cells": [
  {
   "cell_type": "markdown",
   "id": "85c37398-95aa-4ffd-b38a-03a38e310b0c",
   "metadata": {},
   "source": [
    "# Use dot and vectors for weighted ranking"
   ]
  },
  {
   "cell_type": "markdown",
   "id": "8a155784-f7be-49ad-a68e-87e425809f19",
   "metadata": {},
   "source": [
    "## Goal"
   ]
  },
  {
   "cell_type": "markdown",
   "id": "4121cc08-dd21-41a9-a086-c9af10c8c5f7",
   "metadata": {},
   "source": [
    "Each entry has a (fixed) list of numeric attributes $a_i, i=1...N_{attr}$, which fall in a known `0-to-max` scale.\n",
    "\n",
    "We want to be able to query and sort by a \"score\" $S({a_i})$ that is a certain weighted combination of these attributes. Each time the query is ran, the score definition (that is, the weights) can be different.\n",
    "\n",
    "$$\n",
    "S \\equiv \\sum_{i=1}^N w_i \\cdot a_i\n",
    "$$\n",
    "\n",
    "(Note on fixing the normalization: want that the max theoretical score, i.e. on a hypothetical row with all its attributes set to the max value, is the sum of the weights themselves)."
   ]
  },
  {
   "cell_type": "markdown",
   "id": "8e212b56-7e17-4990-b1ac-bb48b4671075",
   "metadata": {},
   "source": [
    "### Sample data\n",
    "\n",
    "(we take all the ability scores to always lie in 0-10 here)\n",
    "\n",
    "```\n",
    "Strength      measuring physical power\n",
    "Dexterity,    measuring agility\n",
    "Constitution, measuring endurance\n",
    "Intelligence  measuring reasoning and memory\n",
    "Wisdom        measuring perception and insight\n",
    "Charisma      measuring force of personality\n",
    "```"
   ]
  },
  {
   "cell_type": "code",
   "execution_count": 1,
   "id": "2cf88f31-1504-4d80-a02e-0c42df654e4e",
   "metadata": {},
   "outputs": [],
   "source": [
    "characters0 = [\n",
    "    {\n",
    "        \"name\": \"Gondolf\",\n",
    "        \"description\": \"A wizard with long nose and a sardonic smile\",\n",
    "        \"abilities_map\": {\n",
    "            \"CHA\": 8,\n",
    "            \"CON\": 3,\n",
    "            \"DEX\": 5,\n",
    "            \"INT\": 10,\n",
    "            \"STR\": 4,\n",
    "            \"WIS\": 9,\n",
    "        },\n",
    "    },\n",
    "    {\n",
    "        \"name\": \"Bargul\",\n",
    "        \"description\": \"A mighty brute, able to smash rocks with his forehead.\",\n",
    "        \"abilities_map\": {\n",
    "            \"CHA\": 3,\n",
    "            \"CON\": 9,\n",
    "            \"DEX\": 4,\n",
    "            \"INT\": 2,\n",
    "            \"STR\": 10,\n",
    "            \"WIS\": 3,\n",
    "        },\n",
    "    },\n",
    "    {\n",
    "        \"name\": \"Zittur\",\n",
    "        \"description\": \"A lightweight fairy, capable of slipping in unseen and making herself unnoticed.\",\n",
    "        \"abilities_map\": {\n",
    "            \"CHA\": 9,\n",
    "            \"CON\": 4,\n",
    "            \"DEX\": 9,\n",
    "            \"INT\": 7,\n",
    "            \"STR\": 3,\n",
    "            \"WIS\": 5,\n",
    "        },\n",
    "    },\n",
    "]"
   ]
  },
  {
   "cell_type": "markdown",
   "id": "aceebbe0-ab18-4e1c-94d3-522994652585",
   "metadata": {},
   "source": [
    "## Setup & Secrets"
   ]
  },
  {
   "cell_type": "code",
   "execution_count": 2,
   "id": "1188d64c-12d1-4f87-a1c7-9c56c82163f2",
   "metadata": {},
   "outputs": [],
   "source": [
    "!pip install --quiet \"cassio>=0.1.3\""
   ]
  },
  {
   "cell_type": "code",
   "execution_count": 3,
   "id": "12883bcb-72cf-4871-ab2b-e5096f057e35",
   "metadata": {},
   "outputs": [],
   "source": [
    "import os\n",
    "from getpass import getpass\n",
    "\n",
    "import cassio"
   ]
  },
  {
   "cell_type": "code",
   "execution_count": 4,
   "id": "2b11daca-5d4f-4afc-895f-f6417d68bbf0",
   "metadata": {},
   "outputs": [],
   "source": [
    "if 'ASTRA_DB_ID' not in os.environ:\n",
    "    os.environ[\"ASTRA_DB_ID\"] = input(\"ASTRA_DB_ID = \")\n",
    "\n",
    "if 'ASTRA_DB_APPLICATION_TOKEN' not in os.environ:\n",
    "    os.environ[\"ASTRA_DB_APPLICATION_TOKEN\"] = getpass(\"ASTRA_DB_APPLICATION_TOKEN = \")\n",
    "\n",
    "if 'ASTRA_DB_KEYSPACE' not in os.environ:\n",
    "    ks = input(\"(Optional) ASTRA_DB_KEYSPACE = \")\n",
    "    if ks:\n",
    "        os.environ[\"ASTRA_DB_KEYSPACE\"] = ks"
   ]
  },
  {
   "cell_type": "markdown",
   "id": "5ff193aa-ed65-46eb-a40e-1e6e3664e318",
   "metadata": {},
   "source": [
    "## Create the store"
   ]
  },
  {
   "cell_type": "code",
   "execution_count": 5,
   "id": "d6b8bb0d-0667-4415-a1d3-5d3831aba2dc",
   "metadata": {},
   "outputs": [],
   "source": [
    "cassio.init(\n",
    "    database_id=os.environ[\"ASTRA_DB_ID\"],\n",
    "    token=os.environ[\"ASTRA_DB_APPLICATION_TOKEN\"],\n",
    "    keyspace=os.environ.get(\"ASTRA_DB_KEYSPACE\"),\n",
    ")"
   ]
  },
  {
   "cell_type": "code",
   "execution_count": 6,
   "id": "de4b49d0-ba69-49e3-ba0d-9777201027b6",
   "metadata": {},
   "outputs": [],
   "source": [
    "session, keyspace = cassio.config.resolve_session(), cassio.config.resolve_keyspace()"
   ]
  },
  {
   "cell_type": "markdown",
   "id": "cf6c530f-5901-4235-a502-10a6e3fea179",
   "metadata": {},
   "source": [
    "### The vector table\n",
    "\n",
    "Six abilities means a vector of six components.\n",
    "\n",
    "Also, DOT (I can expand on this)"
   ]
  },
  {
   "cell_type": "code",
   "execution_count": 7,
   "id": "4bb5480b-e8b1-4ed4-836e-212f9db8c219",
   "metadata": {},
   "outputs": [
    {
     "data": {
      "text/plain": [
       "<cassandra.cluster.ResultSet at 0x7fc37c258f40>"
      ]
     },
     "execution_count": 7,
     "metadata": {},
     "output_type": "execute_result"
    }
   ],
   "source": [
    "CREATE_TABLE_STATEMENT = f\"\"\"\n",
    "CREATE TABLE IF NOT EXISTS {keyspace}.fantasy_simple (\n",
    "    name TEXT PRIMARY KEY,\n",
    "    description TEXT,\n",
    "    abilities VECTOR<FLOAT, 6>,\n",
    ");\n",
    "\"\"\"\n",
    "\n",
    "session.execute(CREATE_TABLE_STATEMENT)"
   ]
  },
  {
   "cell_type": "code",
   "execution_count": 8,
   "id": "87da7ba9-841c-4041-9892-754bf493baee",
   "metadata": {},
   "outputs": [
    {
     "data": {
      "text/plain": [
       "<cassandra.cluster.ResultSet at 0x7fc37c16ec40>"
      ]
     },
     "execution_count": 8,
     "metadata": {},
     "output_type": "execute_result"
    }
   ],
   "source": [
    "CREATE_INDEX_STATEMENT = f\"\"\"\n",
    "CREATE CUSTOM INDEX IF NOT EXISTS idx_abilities\n",
    "    ON {keyspace}.fantasy_simple (abilities)\n",
    "    USING 'org.apache.cassandra.index.sai.StorageAttachedIndex'\n",
    "    WITH OPTIONS = {{'similarity_function' : 'dot_product'}};\n",
    "\"\"\"\n",
    "# Note: the double '{{' and '}}' are just the F-string escape sequence for '{' and '}'\n",
    "\n",
    "session.execute(CREATE_INDEX_STATEMENT)"
   ]
  },
  {
   "cell_type": "markdown",
   "id": "8c3338a8-c4bb-43d4-b97d-9bd6c6690e9c",
   "metadata": {},
   "source": [
    "## Write data"
   ]
  },
  {
   "cell_type": "code",
   "execution_count": 9,
   "id": "2c1f30d8-e477-447d-b57b-c79f6cddfd00",
   "metadata": {},
   "outputs": [
    {
     "name": "stdout",
     "output_type": "stream",
     "text": [
      "=> Bargul: [3, 9, 4, 2, 10, 3]\n",
      "=> {'CHA': 1, 'CON': 2, 'DEX': 3, 'INT': 4, 'STR': 5, 'WIS': 6}\n"
     ]
    }
   ],
   "source": [
    "# We need a global, unambiguous ordering scheme\n",
    "ABILITY_LIST = [\"CHA\", \"CON\", \"DEX\", \"INT\", \"STR\", \"WIS\"]\n",
    "\n",
    "def abilities_to_vector(a_dict):\n",
    "    return [a_dict[ability] for ability in ABILITY_LIST]\n",
    "\n",
    "def abilities_to_map(a_vector):\n",
    "    return {\n",
    "        ability_key: ability_value\n",
    "        for ability_key, ability_value in zip(ABILITY_LIST, a_vector)\n",
    "    }\n",
    "\n",
    "print(f\"=> {characters0[1]['name']}: {abilities_to_vector(characters0[1]['abilities_map'])}\")\n",
    "print(f\"=> {abilities_to_map([1,2,3,4,5,6])}\")"
   ]
  },
  {
   "cell_type": "code",
   "execution_count": 10,
   "id": "877e58c1-97e1-4ffb-9508-c337964c761b",
   "metadata": {},
   "outputs": [],
   "source": [
    "INSERT_STATEMENT = session.prepare(f\"\"\"\n",
    "    INSERT INTO {keyspace}.fantasy_simple\n",
    "        (name, description, abilities)\n",
    "    VALUES\n",
    "        (?,?,?);\n",
    "    \"\"\"\n",
    ")\n",
    "\n",
    "for character in characters0:\n",
    "    session.execute(\n",
    "        INSERT_STATEMENT,\n",
    "        (\n",
    "            character[\"name\"],\n",
    "            character[\"description\"],\n",
    "            abilities_to_vector(character[\"abilities_map\"]),\n",
    "        ),\n",
    "   )"
   ]
  },
  {
   "cell_type": "markdown",
   "id": "de6cf7f6-c23a-474d-8e31-e056938b9bb4",
   "metadata": {},
   "source": [
    "## Query"
   ]
  },
  {
   "cell_type": "code",
   "execution_count": 11,
   "id": "77c0a879-e8f0-4761-84de-de74501448fc",
   "metadata": {},
   "outputs": [],
   "source": [
    "MAX_ABILITY_VALUES = [10, 10, 10, 10, 10, 10]\n",
    "\n",
    "QUERY_STATEMENT = session.prepare(f\"\"\"\n",
    "    SELECT name, description, abilities, similarity_dot_product(abilities, ?) as score\n",
    "        FROM {keyspace}.fantasy_simple\n",
    "        ORDER BY abilities ANN OF ?\n",
    "        LIMIT ?;\n",
    "    \"\"\"\n",
    ")\n",
    "\n",
    "def find_best_matches(ability_weight_map, n = 1):\n",
    "    \"\"\"\n",
    "    the theoretical max score from this query is the sum of the weights.\n",
    "    \"\"\"\n",
    "    # make requested weights into vector\n",
    "    query_vector0 = abilities_to_vector(ability_weight_map)\n",
    "    # ensure each of its component encodes the inverse rescaling for the DB values\n",
    "    query_vector = [x0 / max_val for x0, max_val in zip(query_vector0, MAX_ABILITY_VALUES)]\n",
    "    # run the proper search\n",
    "    results = session.execute(\n",
    "        QUERY_STATEMENT,\n",
    "        (\n",
    "            query_vector,\n",
    "            # again, to match the '?' in the statement:\n",
    "            query_vector,\n",
    "            n,\n",
    "        ),\n",
    "    )\n",
    "    return [\n",
    "        {\n",
    "            \"name\": row.name,\n",
    "            \"description\": row.description,\n",
    "            \"abilities_map\": abilities_to_map(row.abilities),\n",
    "            \"score\": row.score,\n",
    "        }\n",
    "        for row in results\n",
    "    ]"
   ]
  },
  {
   "cell_type": "code",
   "execution_count": 12,
   "id": "6de9f4c7-a450-4e52-b516-fb7bb6645728",
   "metadata": {},
   "outputs": [
    {
     "data": {
      "text/plain": [
       "[{'name': 'Bargul',\n",
       "  'description': 'A mighty brute, able to smash rocks with his forehead.',\n",
       "  'abilities_map': {'CHA': 3.0,\n",
       "   'CON': 9.0,\n",
       "   'DEX': 4.0,\n",
       "   'INT': 2.0,\n",
       "   'STR': 10.0,\n",
       "   'WIS': 3.0},\n",
       "  'score': 0.8550000190734863}]"
      ]
     },
     "execution_count": 12,
     "metadata": {},
     "output_type": "execute_result"
    }
   ],
   "source": [
    "find_best_matches({'CHA': 0.1, 'CON': 0.1, 'DEX': 0.1, 'INT': 0.1, 'STR': 0.5, 'WIS': 0.1})"
   ]
  },
  {
   "cell_type": "code",
   "execution_count": 13,
   "id": "06c59d79-010c-4f68-bf74-3173487ceec9",
   "metadata": {},
   "outputs": [
    {
     "data": {
      "text/plain": [
       "[{'name': 'Zittur',\n",
       "  'description': 'A lightweight fairy, capable of slipping in unseen and making herself unnoticed.',\n",
       "  'abilities_map': {'CHA': 9.0,\n",
       "   'CON': 4.0,\n",
       "   'DEX': 9.0,\n",
       "   'INT': 7.0,\n",
       "   'STR': 3.0,\n",
       "   'WIS': 5.0},\n",
       "  'score': 0.8650000095367432},\n",
       " {'name': 'Gondolf',\n",
       "  'description': 'A wizard with long nose and a sardonic smile',\n",
       "  'abilities_map': {'CHA': 8.0,\n",
       "   'CON': 3.0,\n",
       "   'DEX': 5.0,\n",
       "   'INT': 10.0,\n",
       "   'STR': 4.0,\n",
       "   'WIS': 9.0},\n",
       "  'score': 0.7949999570846558}]"
      ]
     },
     "execution_count": 13,
     "metadata": {},
     "output_type": "execute_result"
    }
   ],
   "source": [
    "find_best_matches({'CHA': 0.1, 'CON': 0.1, 'DEX': 0.5, 'INT': 0.1, 'STR': 0.1, 'WIS': 0.1}, n=2)"
   ]
  },
  {
   "cell_type": "code",
   "execution_count": 14,
   "id": "eb6aea76-a2e7-435d-b9d5-67f43850dfae",
   "metadata": {},
   "outputs": [
    {
     "data": {
      "text/plain": [
       "[{'name': 'Gondolf',\n",
       "  'description': 'A wizard with long nose and a sardonic smile',\n",
       "  'abilities_map': {'CHA': 8.0,\n",
       "   'CON': 3.0,\n",
       "   'DEX': 5.0,\n",
       "   'INT': 10.0,\n",
       "   'STR': 4.0,\n",
       "   'WIS': 9.0},\n",
       "  'score': 0.8349999785423279}]"
      ]
     },
     "execution_count": 14,
     "metadata": {},
     "output_type": "execute_result"
    }
   ],
   "source": [
    "find_best_matches({'CHA': 0.1, 'CON': 0.1, 'DEX': 0.1, 'INT': 0.3, 'STR': 0.3, 'WIS': 0.1}, n=1)"
   ]
  },
  {
   "cell_type": "markdown",
   "id": "e2184d68-f3a4-48e7-a896-4fb1c9795563",
   "metadata": {},
   "source": [
    "# TODO\n",
    "\n",
    "- a single-pass query for \"weighted semantic+abilities\" search\n",
    "- add a bit of explanations\n",
    "- note on what you _cannot_ do without multiple passes\n",
    "- performance/recall considerations"
   ]
  }
 ],
 "metadata": {
  "kernelspec": {
   "display_name": "Python 3 (ipykernel)",
   "language": "python",
   "name": "python3"
  },
  "language_info": {
   "codemirror_mode": {
    "name": "ipython",
    "version": 3
   },
   "file_extension": ".py",
   "mimetype": "text/x-python",
   "name": "python",
   "nbconvert_exporter": "python",
   "pygments_lexer": "ipython3",
   "version": "3.9.18"
  }
 },
 "nbformat": 4,
 "nbformat_minor": 5
}
